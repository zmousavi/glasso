{
 "cells": [
  {
   "cell_type": "code",
   "execution_count": 5,
   "metadata": {},
   "outputs": [],
   "source": [
    "import numpy as np\n",
    "import scipy.stats as ss\n",
    "import matplotlib.pyplot as plt"
   ]
  },
  {
   "cell_type": "code",
   "execution_count": 6,
   "metadata": {},
   "outputs": [],
   "source": [
    "def rank_to_normal(X, c=(3/8)):\n",
    "    # Standard quantile function each feature\n",
    "    rank = ss.rankdata(X, method=\"average\")\n",
    "    N = len(rank)\n",
    "    Z = (rank - c) / (N - 2*c + 1)\n",
    "    return ss.norm.ppf(Z, loc=0, scale=1)"
   ]
  },
  {
   "cell_type": "code",
   "execution_count": 7,
   "metadata": {},
   "outputs": [
    {
     "name": "stderr",
     "output_type": "stream",
     "text": [
      "/Library/Frameworks/Python.framework/Versions/3.6/lib/python3.6/site-packages/matplotlib/axes/_axes.py:6510: MatplotlibDeprecationWarning: \n",
      "The 'normed' kwarg was deprecated in Matplotlib 2.1 and will be removed in 3.1. Use 'density' instead.\n",
      "  alternative=\"'density'\", removal=\"3.1\")\n"
     ]
    },
    {
     "data": {
      "image/png": "[encoded data removed]",
      "text/plain": [
       "<Figure size 432x288 with 1 Axes>"
      ]
     },
     "metadata": {
      "needs_background": "light"
     },
     "output_type": "display_data"
    }
   ],
   "source": [
    "\n",
    "df = 5\n",
    "x = np.arange(-3, ss.chi2.ppf(0.99, df), .5) #np.linspace(chi2.ppf(0.01, df), chi2.ppf(0.99, df), 1000)   #\n",
    "\n",
    "y = ss.chi2.rvs(df, size=100)\n",
    "y_pdf = ss.chi2(df).pdf(x)\n",
    "\n",
    "z = rank_to_normal(y_pdf)\n",
    "\n",
    "fig, ax = plt.subplots(1, 1)\n",
    "ax.hist(y, color='r',normed=True)\n",
    "ax.plot(x, y_pdf, color='black')\n",
    "\n",
    "ax.hist(z, color='b',normed=True)\n",
    "z_pdf = ss.norm.pdf(x)\n",
    "ax.plot(x, z_pdf, color='black')\n",
    "\n",
    "plt.show()"
   ]
  },
  {
   "cell_type": "code",
   "execution_count": null,
   "metadata": {},
   "outputs": [],
   "source": []
  }
 ],
 "metadata": {
  "kernelspec": {
   "display_name": "Python 3",
   "language": "python",
   "name": "python3"
  },
  "language_info": {
   "codemirror_mode": {
    "name": "ipython",
    "version": 3
   },
   "file_extension": ".py",
   "mimetype": "text/x-python",
   "name": "python",
   "nbconvert_exporter": "python",
   "pygments_lexer": "ipython3",
   "version": "3.6.5"
  }
 },
 "nbformat": 4,
 "nbformat_minor": 2
}
