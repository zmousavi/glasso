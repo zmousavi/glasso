{
 "cells": [
  {
   "cell_type": "code",
   "execution_count": 1,
   "metadata": {},
   "outputs": [
    {
     "name": "stdout",
     "output_type": "stream",
     "text": [
      "Automatically created module for IPython interactive environment\n"
     ]
    }
   ],
   "source": [
    "print(__doc__)\n",
    "# author: Gael Varoquaux <gael.varoquaux@inria.fr>\n",
    "# License: BSD 3 clause\n",
    "# Copyright: INRIA\n",
    "\n",
    "import numpy as np\n",
    "from scipy import linalg\n",
    "from sklearn.datasets import make_sparse_spd_matrix\n",
    "from sklearn.covariance import GraphicalLassoCV, graphical_lasso, GraphicalLasso\n",
    "import matplotlib.pyplot as plt\n",
    "from matplotlib import colors\n",
    "from sklearn.utils.extmath import fast_logdet\n"
   ]
  },
  {
   "cell_type": "code",
   "execution_count": 2,
   "metadata": {},
   "outputs": [],
   "source": [
    "# #############################################################################\n",
    "# Generate the data\n",
    "# Generate the data\n",
    "n_samples = 500\n",
    "n_features = 20\n",
    "\n",
    "prng = np.random.RandomState(1)\n",
    "prec = make_sparse_spd_matrix(n_features, alpha=.98,\n",
    "                              smallest_coef=.4,\n",
    "                              largest_coef=.7,\n",
    "                              random_state=prng)\n",
    "\n",
    "\n",
    "#prec = np.identity(n_features)\n",
    "cov = linalg.inv(prec)\n",
    "d = np.sqrt(np.diag(cov))\n",
    "cov /= d\n",
    "cov /= d[:, np.newaxis]\n",
    "prec *= d\n",
    "prec *= d[:, np.newaxis]\n",
    "X = prng.multivariate_normal(np.zeros(n_features), cov, size=n_samples)\n",
    "X -= X.mean(axis=0)\n",
    "X /= X.std(axis=0)"
   ]
  },
  {
   "cell_type": "code",
   "execution_count": 3,
   "metadata": {},
   "outputs": [],
   "source": [
    "#Empirical \n",
    "emp_cov = np.cov(X.T, bias=1)\n",
    "emp_prec = linalg.inv(emp_cov)"
   ]
  },
  {
   "cell_type": "code",
   "execution_count": null,
   "metadata": {},
   "outputs": [],
   "source": [
    "\n",
    "#BIC for different alpha \n",
    "alpha_array = np.arange(0.1, 3, 0.1) # model.cv_alphas_ #  \n",
    "bic = []\n",
    "k_bic_array = []\n",
    "log_likelihood_gaus= []\n",
    "log_likelihood_gaus_scale= []\n",
    "glasso_objective_scale = []\n",
    "off_diag_nz_array = []\n",
    "for alpha in alpha_array:\n",
    "    \n",
    "    g = graphical_lasso(emp_cov, alpha, return_costs=True)\n",
    "\n",
    "    \n",
    "#     log_likelihood_g2 = - np.sum(emp_cov * prec_g) + fast_logdet(prec_g) \n",
    "#     off_diag_nz = np.sum(np.triu(prec_g)) # sum upper off diag elements\n",
    "#     cost_g =  log_likelihood_g + 2* alpha * off_diag_nz\n",
    "#     bic.append( -2*log_likelihood_g + 1 *off_diag_nz * np.log(X.shape[0]))\n",
    "    \n",
    "    \n",
    "    prec_g = g[1]\n",
    "    off_diag_nz =  2*np.sum(abs(np.triu(prec_g, k=1))) #==(np.abs(prec_g).sum()- np.abs(np.diag(prec_g)).sum()) \n",
    "    off_diag_nz_array.append(off_diag_nz)\n",
    "    off_diag_nz_wrong = 2*np.sum((np.triu(prec_g, k=0)))# 2*np.sum(np.diag(prec_g)) #wrong but works?!\n",
    "    \n",
    "    log_likelihood_g = ( - np.sum(emp_cov * prec_g) + fast_logdet(prec_g) )/2\n",
    "    log_likelihood_gaus.append(log_likelihood_g)\n",
    "    log_likelihood(emp_cov, prec_g)\n",
    "    scale = X.shape[1]* np.log(2 * np.pi)\n",
    "    #log_likelihood_g_scale = ( - np.sum(emp_cov * prec_g) + fast_logdet(prec_g) - scale)/2\n",
    "    log_likelihood_g_scale = log_likelihood(empirical_covariance(X), prec_g)\n",
    "    \n",
    "    log_likelihood_gaus_scale.append(log_likelihood_g_scale)\n",
    "    \n",
    "    this_glasso_objective_scale = -2*log_likelihood_g + alpha * off_diag_nz + scale  #== g[2][0][0]#== #what glasso minimizes \n",
    "    glasso_objective_scale.append(this_glasso_objective_scale)\n",
    "\n",
    "    k_bic = np.count_nonzero(np.triu(prec_g, k=1)) #upper triangle w/o diag\n",
    "    #k_bic = off_diag_nz_wrong\n",
    "    #k_bic = np.count_nonzero(np.triu(prec_g, k=0)) #WRONG\n",
    "    \n",
    "    k_bic_array.append(k_bic)\n",
    "                       \n",
    "    bic.append( -2*log_likelihood_g + (k_bic) * np.log(X.shape[0]))\n",
    "    #bic.append( -2*log_likelihood_g + 0) #just trying\n",
    "\n",
    "    #bic.append( -2*log_likelihood_g + (off_diag_nz_wrong) * np.log(X.shape[0]))\n",
    "    #bic.append( -2*glasso_objective + (k_bic) * np.log(X.shape[0])) wrong\n",
    "\n",
    "\n",
    "        \n",
    "#pick the smallest BIC\n",
    "alpha_bic = alpha_array[np.argmin(bic)]\n",
    "g_bic = graphical_lasso(emp_cov, alpha=alpha_bic)\n",
    "bic_prec = g_bic[1]\n",
    "bic_cov = g_bic[0]\n",
    "\n",
    "\n",
    "\n",
    "\n",
    "m = 2 * np.array(log_likelihood_gaus_scale)\n",
    "# plot the model selection metric\n",
    "plt.figure(figsize=(4, 3))\n",
    "plt.axes([.2, .15, .75, .7])\n",
    "plt.plot(alpha_array, m, 'o-')\n",
    "plt.axvline(alpha_bic, color='.5')\n",
    "plt.title('')\n",
    "plt.ylabel(  '2 * Log Likelihood + Scale')\n",
    "plt.xlabel('alpha')\n",
    "\n",
    "plt.show()\n",
    "\n",
    "r = alpha_array * off_diag_nz_array\n",
    "# plot the model selection metric\n",
    "plt.figure(figsize=(4, 3))\n",
    "plt.axes([.2, .15, .75, .7])\n",
    "plt.plot(alpha_array, r, 'o-')\n",
    "plt.axvline(alpha_bic, color='.5')\n",
    "plt.title('')\n",
    "plt.ylabel('alpha*off_daiag_nz')\n",
    "plt.xlabel('alpha')\n",
    "\n",
    "plt.show()\n",
    "\n",
    "\n",
    "# plot the model selection metric\n",
    "plt.figure(figsize=(4, 3))\n",
    "plt.axes([.2, .15, .75, .7])\n",
    "plt.plot(alpha_array, glasso_objective_scale, 'o-')\n",
    "plt.axvline(alpha_bic, color='.5')\n",
    "plt.title('')\n",
    "plt.ylabel(' glasso objective')\n",
    "plt.xlabel('alpha')\n",
    "\n",
    "plt.show()\n",
    "\n",
    "\n",
    "# plot the model selection metric\n",
    "plt.figure(figsize=(4, 3))\n",
    "plt.axes([.2, .15, .75, .7])\n",
    "plt.plot(alpha_array, off_diag_nz_array, 'o-')\n",
    "plt.axvline(alpha_bic, color='.5')\n",
    "plt.title('')\n",
    "plt.ylabel('off_daig_nz')\n",
    "plt.xlabel('alpha')\n",
    "\n",
    "plt.show()\n",
    "\n",
    "\n",
    "\n",
    "\n",
    "# plot the model selection metric\n",
    "plt.figure(figsize=(4, 3))\n",
    "plt.axes([.2, .15, .75, .7])\n",
    "plt.plot(alpha_array, bic, 'o-')\n",
    "plt.axvline(alpha_bic, color='.5')\n",
    "plt.title('Model selection')\n",
    "plt.ylabel('BIC score')\n",
    "plt.xlabel('alpha')\n",
    "\n",
    "plt.show()\n",
    "\n",
    "# plot the model selection metric\n",
    "plt.figure(figsize=(4, 3))\n",
    "plt.axes([.2, .15, .75, .7])\n",
    "plt.plot(alpha_array, k_bic_array, 'o-')\n",
    "plt.axvline(alpha_bic, color='.5')\n",
    "plt.title('')\n",
    "plt.ylabel(' k_bic')\n",
    "plt.xlabel('alpha')\n",
    "\n",
    "plt.show()\n"
   ]
  },
  {
   "cell_type": "code",
   "execution_count": 258,
   "metadata": {},
   "outputs": [
    {
     "data": {
      "image/png": "[encoded data removed]",
      "text/plain": [
       "<Figure size 288x216 with 1 Axes>"
      ]
     },
     "metadata": {
      "needs_background": "light"
     },
     "output_type": "display_data"
    }
   ],
   "source": [
    "# #############################################################################\n",
    "# Estimate the covariance\n",
    "emp_cov = np.dot(X.T, X) / n_samples\n",
    "\n",
    "model = GraphicalLassoCV(cv=5)\n",
    "model.fit(X)\n",
    "cv_cov = model.covariance_\n",
    "cv_prec = model.precision_\n",
    "\n",
    "# plot the model selection metric\n",
    "plt.figure(figsize=(4, 3))\n",
    "plt.axes([.2, .15, .75, .7])\n",
    "plt.plot(model.cv_alphas_, np.mean(model.grid_scores_, axis=1), 'o-')\n",
    "plt.axvline(model.alpha_, color='.5')\n",
    "plt.title('Model selection')\n",
    "plt.ylabel('Cross-validation score')\n",
    "plt.xlabel('alpha')\n",
    "\n",
    "plt.show()"
   ]
  },
  {
   "cell_type": "code",
   "execution_count": 259,
   "metadata": {},
   "outputs": [
    {
     "data": {
      "image/png": "[encoded data removed]",
      "text/plain": [
       "<Figure size 288x216 with 1 Axes>"
      ]
     },
     "metadata": {
      "needs_background": "light"
     },
     "output_type": "display_data"
    },
    {
     "data": {
      "image/png": "[encoded data removed]",
      "text/plain": [
       "<Figure size 288x216 with 1 Axes>"
      ]
     },
     "metadata": {
      "needs_background": "light"
     },
     "output_type": "display_data"
    },
    {
     "data": {
      "image/png": "[encoded data removed]",
      "text/plain": [
       "<Figure size 288x216 with 1 Axes>"
      ]
     },
     "metadata": {
      "needs_background": "light"
     },
     "output_type": "display_data"
    },
    {
     "data": {
      "image/png": "[encoded data removed]",
      "text/plain": [
       "<Figure size 288x216 with 1 Axes>"
      ]
     },
     "metadata": {
      "needs_background": "light"
     },
     "output_type": "display_data"
    },
    {
     "data": {
      "image/png": "[encoded data removed]",
      "text/plain": [
       "<Figure size 288x216 with 1 Axes>"
      ]
     },
     "metadata": {
      "needs_background": "light"
     },
     "output_type": "display_data"
    },
    {
     "data": {
      "image/png": "[encoded data removed]",
      "text/plain": [
       "<Figure size 288x216 with 1 Axes>"
      ]
     },
     "metadata": {
      "needs_background": "light"
     },
     "output_type": "display_data"
    }
   ],
   "source": []
  },
  {
   "cell_type": "code",
   "execution_count": 260,
   "metadata": {},
   "outputs": [
    {
     "data": {
      "text/plain": [
       "20"
      ]
     },
     "execution_count": 260,
     "metadata": {},
     "output_type": "execute_result"
    }
   ],
   "source": [
    " np.count_nonzero(np.triu(prec_g, k=0))"
   ]
  },
  {
   "cell_type": "code",
   "execution_count": 261,
   "metadata": {},
   "outputs": [
    {
     "data": {
      "text/plain": [
       "0"
      ]
     },
     "execution_count": 261,
     "metadata": {},
     "output_type": "execute_result"
    }
   ],
   "source": [
    "k_bic"
   ]
  },
  {
   "cell_type": "code",
   "execution_count": 262,
   "metadata": {},
   "outputs": [
    {
     "data": {
      "text/plain": [
       "0.0"
      ]
     },
     "execution_count": 262,
     "metadata": {},
     "output_type": "execute_result"
    }
   ],
   "source": [
    "(np.abs(prec_g).sum()- np.abs(np.diag(prec_g)).sum())"
   ]
  },
  {
   "cell_type": "code",
   "execution_count": 263,
   "metadata": {},
   "outputs": [
    {
     "data": {
      "text/plain": [
       "0"
      ]
     },
     "execution_count": 263,
     "metadata": {},
     "output_type": "execute_result"
    }
   ],
   "source": [
    "np.count_nonzero(np.triu(prec_g, k=1))"
   ]
  },
  {
   "cell_type": "code",
   "execution_count": 264,
   "metadata": {},
   "outputs": [
    {
     "data": {
      "image/png": "[encoded data removed]",
      "text/plain": [
       "<Figure size 720x720 with 9 Axes>"
      ]
     },
     "metadata": {
      "needs_background": "light"
     },
     "output_type": "display_data"
    }
   ],
   "source": [
    "\n",
    "Nr = 2\n",
    "Nc = 4\n",
    "cmap = plt.cm.RdBu_r\n",
    "\n",
    "fig, axs = plt.subplots(Nr, Nc, figsize=(10,10))\n",
    "#fig.suptitle('Multiple images')\n",
    "\n",
    "# plot the covariances\n",
    "covs_precs = [('Empirical', emp_cov), ('BIC', bic_cov),\n",
    "        ('GraphicalLassoCV', cv_cov), ('True', cov), ('Empirical', emp_prec), ('BIC', bic_prec),\n",
    "         ('GraphicalLasso', cv_prec), ('True', prec)]\n",
    "\n",
    "\n",
    "covs_precs = [ cov, emp_cov, bic_cov, cv_cov, prec, emp_prec, bic_prec, cv_prec]\n",
    "\n",
    "names= ['True covariance', 'Empirical covariance', 'BIC covariance', 'GraphicalLassoCV covariance', 'True precision', 'Empirical precision', 'BIC precision', 'GraphicalLassoCV precision' ]\n",
    "\n",
    "images = []\n",
    "k = 0\n",
    "for i in range(Nr):\n",
    "    for j in range(Nc):\n",
    "        data = covs_precs[k]\n",
    "        images.append(axs[i, j].imshow(data, cmap=cmap))\n",
    "        axs[i, j].label_outer()\n",
    "        #plt.xticks(())\n",
    "        #plt.yticks(())\n",
    "        title = names[k]\n",
    "        axs[i, j].set_title(title)\n",
    "        k +=1 \n",
    " \n",
    "# # Find the min and max of all colors for use in setting the color scale.\n",
    "# vmin = min(image.get_array().min() for image in images)\n",
    "# vmax = max(image.get_array().max() for image in images)\n",
    "# norm = colors.Normalize(vmin=vmin, vmax=vmax)\n",
    "# for im in images:\n",
    "#     im.set_norm(norm)\n",
    "\n",
    "fig.colorbar(images[0], ax=axs, orientation='horizontal', fraction=.1)\n",
    "\n",
    "\n",
    "# # Make images respond to changes in the norm of other images (e.g. via the\n",
    "# # \"edit axis, curves and images parameters\" GUI on Qt), but be careful not to\n",
    "# # recurse infinitely!\n",
    "# def update(changed_image):\n",
    "#     for im in images:\n",
    "#         if (changed_image.get_cmap() != im.get_cmap()\n",
    "#                 or changed_image.get_clim() != im.get_clim()):\n",
    "#             im.set_cmap(changed_image.get_cmap())\n",
    "#             im.set_clim(changed_image.get_clim())\n",
    "\n",
    "\n",
    "# for im in images:\n",
    "#     im.callbacksSM.connect('changed', update)\n",
    "\n",
    "plt.show()       "
   ]
  },
  {
   "cell_type": "code",
   "execution_count": 265,
   "metadata": {},
   "outputs": [
    {
     "name": "stdout",
     "output_type": "stream",
     "text": [
      "0.0\n",
      "0.0\n"
     ]
    }
   ],
   "source": [
    "print(2* 1 * np.sum(abs(np.triu(prec_g, k=1)) ))\n",
    "print(1 * (np.abs(prec_g).sum())- np.abs(np.diag(prec_g)).sum())\n"
   ]
  },
  {
   "cell_type": "code",
   "execution_count": 266,
   "metadata": {},
   "outputs": [],
   "source": [
    "# class GraphicalLassoCV_noTest(GraphicalLasso):\n",
    "#     \"\"\"Sparse inverse covariance w/ cross-validated choice of the l1 penalty.\n",
    "#     See glossary entry for :term:`cross-validation estimator`.\n",
    "#     Read more in the :ref:`User Guide <sparse_inverse_covariance>`.\n",
    "#     Parameters\n",
    "#     ----------\n",
    "#     alphas : integer, or list positive float, optional\n",
    "#         If an integer is given, it fixes the number of points on the\n",
    "#         grids of alpha to be used. If a list is given, it gives the\n",
    "#         grid to be used. See the notes in the class docstring for\n",
    "#         more details.\n",
    "#     n_refinements : strictly positive integer\n",
    "#         The number of times the grid is refined. Not used if explicit\n",
    "#         values of alphas are passed.\n",
    "#     cv : int, cross-validation generator or an iterable, optional\n",
    "#         Determines the cross-validation splitting strategy.\n",
    "#         Possible inputs for cv are:\n",
    "#         - None, to use the default 3-fold cross-validation,\n",
    "#         - integer, to specify the number of folds.\n",
    "#         - :term:`CV splitter`,\n",
    "#         - An iterable yielding (train, test) splits as arrays of indices.\n",
    "#         For integer/None inputs :class:`KFold` is used.\n",
    "#         Refer :ref:`User Guide <cross_validation>` for the various\n",
    "#         cross-validation strategies that can be used here.\n",
    "#         .. versionchanged:: 0.20\n",
    "#             ``cv`` default value if None will change from 3-fold to 5-fold\n",
    "#             in v0.22.\n",
    "#     tol : positive float, optional\n",
    "#         The tolerance to declare convergence: if the dual gap goes below\n",
    "#         this value, iterations are stopped.\n",
    "#     enet_tol : positive float, optional\n",
    "#         The tolerance for the elastic net solver used to calculate the descent\n",
    "#         direction. This parameter controls the accuracy of the search direction\n",
    "#         for a given column update, not of the overall parameter estimate. Only\n",
    "#         used for mode='cd'.\n",
    "#     max_iter : integer, optional\n",
    "#         Maximum number of iterations.\n",
    "#     mode : {'cd', 'lars'}\n",
    "#         The Lasso solver to use: coordinate descent or LARS. Use LARS for\n",
    "#         very sparse underlying graphs, where number of features is greater\n",
    "#         than number of samples. Elsewhere prefer cd which is more numerically\n",
    "#         stable.\n",
    "#     n_jobs : int or None, optional (default=None)\n",
    "#         number of jobs to run in parallel.\n",
    "#         ``None`` means 1 unless in a :obj:`joblib.parallel_backend` context.\n",
    "#         ``-1`` means using all processors. See :term:`Glossary <n_jobs>`\n",
    "#         for more details.\n",
    "#     verbose : boolean, optional\n",
    "#         If verbose is True, the objective function and duality gap are\n",
    "#         printed at each iteration.\n",
    "#     assume_centered : boolean\n",
    "#         If True, data are not centered before computation.\n",
    "#         Useful when working with data whose mean is almost, but not exactly\n",
    "#         zero.\n",
    "#         If False, data are centered before computation.\n",
    "#     Attributes\n",
    "#     ----------\n",
    "#     location_ : array-like, shape (n_features,)\n",
    "#         Estimated location, i.e. the estimated mean.\n",
    "#     covariance_ : numpy.ndarray, shape (n_features, n_features)\n",
    "#         Estimated covariance matrix.\n",
    "#     precision_ : numpy.ndarray, shape (n_features, n_features)\n",
    "#         Estimated precision matrix (inverse covariance).\n",
    "#     alpha_ : float\n",
    "#         Penalization parameter selected.\n",
    "#     cv_alphas_ : list of float\n",
    "#         All penalization parameters explored.\n",
    "#     grid_scores_ : 2D numpy.ndarray (n_alphas, n_folds)\n",
    "#         Log-likelihood score on left-out data across folds.\n",
    "#     n_iter_ : int\n",
    "#         Number of iterations run for the optimal alpha.\n",
    "#     Examples\n",
    "#     --------\n",
    "#     >>> import numpy as np\n",
    "#     >>> from sklearn.covariance import GraphicalLassoCV\n",
    "#     >>> true_cov = np.array([[0.8, 0.0, 0.2, 0.0],\n",
    "#     ...                      [0.0, 0.4, 0.0, 0.0],\n",
    "#     ...                      [0.2, 0.0, 0.3, 0.1],\n",
    "#     ...                      [0.0, 0.0, 0.1, 0.7]])\n",
    "#     >>> np.random.seed(0)\n",
    "#     >>> X = np.random.multivariate_normal(mean=[0, 0, 0, 0],\n",
    "#     ...                                   cov=true_cov,\n",
    "#     ...                                   size=200)\n",
    "#     >>> cov = GraphicalLassoCV(cv=5).fit(X)\n",
    "#     >>> np.around(cov.covariance_, decimals=3)\n",
    "#     array([[0.816, 0.051, 0.22 , 0.017],\n",
    "#            [0.051, 0.364, 0.018, 0.036],\n",
    "#            [0.22 , 0.018, 0.322, 0.094],\n",
    "#            [0.017, 0.036, 0.094, 0.69 ]])\n",
    "#     >>> np.around(cov.location_, decimals=3)\n",
    "#     array([0.073, 0.04 , 0.038, 0.143])\n",
    "#     See Also\n",
    "#     --------\n",
    "#     graphical_lasso, GraphicalLasso\n",
    "#     Notes\n",
    "#     -----\n",
    "#     The search for the optimal penalization parameter (alpha) is done on an\n",
    "#     iteratively refined grid: first the cross-validated scores on a grid are\n",
    "#     computed, then a new refined grid is centered around the maximum, and so\n",
    "#     on.\n",
    "#     One of the challenges which is faced here is that the solvers can\n",
    "#     fail to converge to a well-conditioned estimate. The corresponding\n",
    "#     values of alpha then come out as missing values, but the optimum may\n",
    "#     be close to these missing values.\n",
    "#     \"\"\"\n",
    "\n",
    "#     def __init__(self, alphas=4, n_refinements=4, cv='warn', tol=1e-4,\n",
    "#                  enet_tol=1e-4, max_iter=100, mode='cd', n_jobs=None,\n",
    "#                  verbose=False, assume_centered=False):\n",
    "#         super().__init__(\n",
    "#             mode=mode, tol=tol, verbose=verbose, enet_tol=enet_tol,\n",
    "#             max_iter=max_iter, assume_centered=assume_centered)\n",
    "#         self.alphas = alphas\n",
    "#         self.n_refinements = n_refinements\n",
    "#         self.cv = cv\n",
    "#         self.n_jobs = n_jobs\n",
    "\n",
    "#     def fit(self, X, y=None):\n",
    "#         \"\"\"Fits the GraphicalLasso covariance model to X.\n",
    "#         Parameters\n",
    "#         ----------\n",
    "#         X : ndarray, shape (n_samples, n_features)\n",
    "#             Data from which to compute the covariance estimate\n",
    "#         y : (ignored)\n",
    "#         \"\"\"\n",
    "#         # Covariance does not make sense for a single feature\n",
    "#         X = check_array(X, ensure_min_features=2, estimator=self)\n",
    "#         if self.assume_centered:\n",
    "#             self.location_ = np.zeros(X.shape[1])\n",
    "#         else:\n",
    "#             self.location_ = X.mean(0)\n",
    "#         emp_cov = empirical_covariance(\n",
    "#             X, assume_centered=self.assume_centered)\n",
    "\n",
    "#         cv = check_cv(self.cv, y, classifier=False)\n",
    "\n",
    "#         # List of (alpha, scores, covs)\n",
    "#         path = list()\n",
    "#         n_alphas = self.alphas\n",
    "#         inner_verbose = max(0, self.verbose - 1)\n",
    "\n",
    "#         if isinstance(n_alphas, Sequence):\n",
    "#             alphas = self.alphas\n",
    "#             n_refinements = 1\n",
    "#         else:\n",
    "#             n_refinements = self.n_refinements\n",
    "#             alpha_1 = alpha_max(emp_cov)\n",
    "#             alpha_0 = 1e-2 * alpha_1\n",
    "#             alphas = np.logspace(np.log10(alpha_0), np.log10(alpha_1),\n",
    "#                                  n_alphas)[::-1]\n",
    "\n",
    "#         t0 = time.time()\n",
    "#         for i in range(n_refinements):\n",
    "#             with warnings.catch_warnings():\n",
    "#                 # No need to see the convergence warnings on this grid:\n",
    "#                 # they will always be points that will not converge\n",
    "#                 # during the cross-validation\n",
    "#                 warnings.simplefilter('ignore', ConvergenceWarning)\n",
    "#                 # Compute the cross-validated loss on the current grid\n",
    "\n",
    "#                 # NOTE: Warm-restarting graphical_lasso_path has been tried,\n",
    "#                 # and this did not allow to gain anything\n",
    "#                 # (same execution time with or without).\n",
    "#                 this_path = Parallel(\n",
    "#                     n_jobs=self.n_jobs,\n",
    "#                     verbose=self.verbose\n",
    "#                 )(delayed(graphical_lasso_path)(X, alphas=alphas,\n",
    "#                                                 X_test=None, mode=self.mode,\n",
    "#                                                 tol=self.tol,\n",
    "#                                                 enet_tol=self.enet_tol,\n",
    "#                                                 max_iter=int(.1 *\n",
    "#                                                              self.max_iter),\n",
    "#                                                 verbose=inner_verbose)\n",
    "#                   )\n",
    "\n",
    "#             # Little danse to transform the list in what we need\n",
    "#             covs, _, scores = zip(*this_path)\n",
    "#             covs = zip(*covs)\n",
    "#             scores = zip(*scores)\n",
    "#             path.extend(zip(alphas, scores, covs))\n",
    "#             path = sorted(path, key=operator.itemgetter(0), reverse=True)\n",
    "\n",
    "#             # Find the maximum (avoid using built in 'max' function to\n",
    "#             # have a fully-reproducible selection of the smallest alpha\n",
    "#             # in case of equality)\n",
    "#             best_score = -np.inf\n",
    "#             last_finite_idx = 0\n",
    "#             for index, (alpha, scores, _) in enumerate(path):\n",
    "#                 this_score = np.mean(scores)\n",
    "#                 if this_score >= .1 / np.finfo(np.float64).eps:\n",
    "#                     this_score = np.nan\n",
    "#                 if np.isfinite(this_score):\n",
    "#                     last_finite_idx = index\n",
    "#                 if this_score >= best_score:\n",
    "#                     best_score = this_score\n",
    "#                     best_index = index\n",
    "\n",
    "#             # Refine the grid\n",
    "#             if best_index == 0:\n",
    "#                 # We do not need to go back: we have chosen\n",
    "#                 # the highest value of alpha for which there are\n",
    "#                 # non-zero coefficients\n",
    "#                 alpha_1 = path[0][0]\n",
    "#                 alpha_0 = path[1][0]\n",
    "#             elif (best_index == last_finite_idx\n",
    "#                     and not best_index == len(path) - 1):\n",
    "#                 # We have non-converged models on the upper bound of the\n",
    "#                 # grid, we need to refine the grid there\n",
    "#                 alpha_1 = path[best_index][0]\n",
    "#                 alpha_0 = path[best_index + 1][0]\n",
    "#             elif best_index == len(path) - 1:\n",
    "#                 alpha_1 = path[best_index][0]\n",
    "#                 alpha_0 = 0.01 * path[best_index][0]\n",
    "#             else:\n",
    "#                 alpha_1 = path[best_index - 1][0]\n",
    "#                 alpha_0 = path[best_index + 1][0]\n",
    "\n",
    "#             if not isinstance(n_alphas, Sequence):\n",
    "#                 alphas = np.logspace(np.log10(alpha_1), np.log10(alpha_0),\n",
    "#                                      n_alphas + 2)\n",
    "#                 alphas = alphas[1:-1]\n",
    "\n",
    "#             if self.verbose and n_refinements > 1:\n",
    "#                 print('[GraphicalLassoCV] Done refinement % 2i out of'\n",
    "#                       ' %i: % 3is' % (i + 1, n_refinements, time.time() - t0))\n",
    "\n",
    "#         path = list(zip(*path))\n",
    "#         grid_scores = list(path[1])\n",
    "#         alphas = list(path[0])\n",
    "#         # Finally, compute the score with alpha = 0\n",
    "#         alphas.append(0)\n",
    "#         grid_scores.append(cross_val_score(EmpiricalCovariance(), X,\n",
    "#                                            cv=cv, n_jobs=self.n_jobs,\n",
    "#                                            verbose=inner_verbose))\n",
    "#         self.grid_scores_ = np.array(grid_scores)\n",
    "#         best_alpha = alphas[best_index]\n",
    "#         self.alpha_ = best_alpha\n",
    "#         self.cv_alphas_ = alphas\n",
    "\n",
    "#         # Finally fit the model with the selected alpha\n",
    "#         self.covariance_, self.precision_, self.n_iter_ = graphical_lasso(\n",
    "#             emp_cov, alpha=best_alpha, mode=self.mode, tol=self.tol,\n",
    "#             enet_tol=self.enet_tol, max_iter=self.max_iter,\n",
    "#             verbose=inner_verbose, return_n_iter=True)\n",
    "#         return self\n",
    "    \n",
    "# def alpha_max(emp_cov):\n",
    "#     \"\"\"Find the maximum alpha for which there are some non-zeros off-diagonal.\n",
    "#     Parameters\n",
    "#     ----------\n",
    "#     emp_cov : 2D array, (n_features, n_features)\n",
    "#         The sample covariance matrix\n",
    "#     Notes\n",
    "#     -----\n",
    "#     This results from the bound for the all the Lasso that are solved\n",
    "#     in GraphicalLasso: each time, the row of cov corresponds to Xy. As the\n",
    "#     bound for alpha is given by `max(abs(Xy))`, the result follows.\n",
    "#     \"\"\"\n",
    "#     A = np.copy(emp_cov)\n",
    "#     A.flat[::A.shape[0] + 1] = 0\n",
    "#     return np.max(np.abs(A))\n",
    "\n",
    "# model = GraphicalLassoCV_noTest(cv=5)\n",
    "# model.fit(X)\n",
    "# cv_cov = model.covariance_\n",
    "# cv_prec = model.precision_\n",
    "\n",
    "# # plot the model selection metric\n",
    "# plt.figure(figsize=(4, 3))\n",
    "# plt.axes([.2, .15, .75, .7])\n",
    "# plt.plot(model.cv_alphas_, np.mean(model.grid_scores_, axis=1), 'o-')\n",
    "# plt.axvline(model.alpha_, color='.5')\n",
    "# plt.title('Model selection')\n",
    "# plt.ylabel('Cross-validation score')\n",
    "# plt.xlabel('alpha')\n",
    "\n",
    "# plt.show()\n"
   ]
  },
  {
   "cell_type": "code",
   "execution_count": 267,
   "metadata": {},
   "outputs": [],
   "source": [
    "# # Plot the results\n",
    "# plt.figure(figsize=(10, 6))\n",
    "# plt.subplots_adjust(left=0.02, right=0.98)\n",
    "\n",
    "# # plot the covariances\n",
    "# covs = [('Empirical', emp_cov), ('BIC', bic_cov),\n",
    "#         ('GraphicalLassoCV', cv_cov), ('True', cov)]\n",
    "# vmax = cov.max()\n",
    "# for i, (name, this_cov) in enumerate(covs):\n",
    "#     plt.subplot(2, 4, i + 1)\n",
    "#     plt.imshow(this_cov, interpolation='nearest', vmin=-vmax, vmax=vmax,\n",
    "#                cmap=plt.cm.RdBu_r)\n",
    "#     plt.xticks(())\n",
    "#     plt.yticks(())\n",
    "#     plt.title('%s covariance' % name)\n",
    "\n",
    "\n",
    "# # plot the precisions\n",
    "# precs = [('Empirical', emp_prec), ('BIC', bic_prec),\n",
    "#          ('GraphicalLasso', cv_prec), ('True', prec)]\n",
    "# vmax = .9 * prec.max()\n",
    "# for i, (name, this_prec) in enumerate(precs):\n",
    "#     ax = plt.subplot(2, 4, i + 5)\n",
    "#     plt.imshow(np.ma.masked_equal(this_prec, 0),\n",
    "#                interpolation='nearest', vmin=-vmax, vmax=vmax,\n",
    "#                cmap=plt.cm.RdBu_r)\n",
    "#     plt.xticks(())\n",
    "#     plt.yticks(())\n",
    "#     plt.title('%s precision' % name)\n",
    "#     if hasattr(ax, 'set_facecolor'):\n",
    "#         ax.set_facecolor('.7')\n",
    "#     else:\n",
    "#         ax.set_axis_bgcolor('.7')\n",
    "\n"
   ]
  },
  {
   "cell_type": "code",
   "execution_count": null,
   "metadata": {},
   "outputs": [],
   "source": []
  },
  {
   "cell_type": "code",
   "execution_count": null,
   "metadata": {},
   "outputs": [],
   "source": []
  },
  {
   "cell_type": "code",
   "execution_count": null,
   "metadata": {},
   "outputs": [],
   "source": []
  },
  {
   "cell_type": "code",
   "execution_count": null,
   "metadata": {},
   "outputs": [],
   "source": [
    "\n"
   ]
  },
  {
   "cell_type": "code",
   "execution_count": null,
   "metadata": {},
   "outputs": [],
   "source": []
  }
 ],
 "metadata": {
  "kernelspec": {
   "display_name": "Python 3",
   "language": "python",
   "name": "python3"
  },
  "language_info": {
   "codemirror_mode": {
    "name": "ipython",
    "version": 3
   },
   "file_extension": ".py",
   "mimetype": "text/x-python",
   "name": "python",
   "nbconvert_exporter": "python",
   "pygments_lexer": "ipython3",
   "version": "3.6.5"
  }
 },
 "nbformat": 4,
 "nbformat_minor": 2
}
