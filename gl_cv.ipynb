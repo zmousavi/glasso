{
 "cells": [
  {
   "cell_type": "code",
   "execution_count": 27,
   "metadata": {},
   "outputs": [
    {
     "name": "stdout",
     "output_type": "stream",
     "text": [
      "Automatically created module for IPython interactive environment\n"
     ]
    }
   ],
   "source": [
    "print(__doc__)\n",
    "# author: Gael Varoquaux <gael.varoquaux@inria.fr>\n",
    "# License: BSD 3 clause\n",
    "# Copyright: INRIA\n",
    "\n",
    "import numpy as np\n",
    "import scipy.stats as ss\n",
    "from scipy import linalg\n",
    "from sklearn.datasets import make_sparse_spd_matrix\n",
    "from sklearn.covariance import GraphicalLassoCV, graphical_lasso, GraphicalLasso\n",
    "import matplotlib.pyplot as plt\n",
    "from matplotlib import colors\n",
    "from sklearn.utils.extmath import fast_logdet\n",
    "\n",
    "#cv_notest:\n",
    "from sklearn.utils.validation import check_random_state, check_array\n",
    "from sklearn.covariance.empirical_covariance_ import empirical_covariance\n",
    "from sklearn.model_selection import check_cv, cross_val_score\n",
    "from collections.abc import Sequence\n",
    "import time\n",
    "import warnings\n",
    "from sklearn.exceptions import ConvergenceWarning\n",
    "from sklearn.utils._joblib import Parallel, delayed\n",
    "from sklearn.covariance.graph_lasso_ import graphical_lasso_path\n",
    "from sklearn.covariance import log_likelihood"
   ]
  },
  {
   "cell_type": "code",
   "execution_count": 120,
   "metadata": {},
   "outputs": [],
   "source": [
    "def rank_to_normal(X, c=(3/8)):\n",
    "    # Standard quantile function each feature\n",
    "    rank = ss.rankdata(X, method=\"average\")\n",
    "    N = len(rank)\n",
    "    Z = (rank - c) / (N - 2*c + 1)\n",
    "    return ss.norm.ppf(Z, loc=0, scale=1)"
   ]
  },
  {
   "cell_type": "code",
   "execution_count": 30,
   "metadata": {},
   "outputs": [],
   "source": [
    "# #############################################################################\n",
    "# Generate the data\n",
    "# Generate the data\n",
    "n_samples = 10\n",
    "n_features = 2\n",
    "\n",
    "prng = np.random.RandomState(1)\n",
    "prec = make_sparse_spd_matrix(n_features, alpha=.98,\n",
    "                              smallest_coef=.4,\n",
    "                              largest_coef=.7,\n",
    "                              random_state=prng)\n",
    "\n",
    "\n",
    "#prec = np.identity(n_features)\n",
    "cov = linalg.inv(prec)\n",
    "d = np.sqrt(np.diag(cov))\n",
    "cov /= d\n",
    "cov /= d[:, np.newaxis]\n",
    "prec *= d\n",
    "prec *= d[:, np.newaxis]\n",
    "X = prng.multivariate_normal(np.zeros(n_features), cov, size=n_samples)\n",
    "X = prng.multivariate_normal(np.zeros(n_features), cov, size=n_samples)\n",
    "random_noise = np.random.normal(0, 1, n_samples*n_features).reshape(n_samples,n_features)\n",
    "X = X + random_noise\n",
    "X -= X.mean(axis=0)\n",
    "X /= X.std(axis=0)"
   ]
  },
  {
   "cell_type": "code",
   "execution_count": 121,
   "metadata": {},
   "outputs": [],
   "source": [
    "#inverse rank normalize the data \n",
    "#Get rank, ties are averaged\n",
    "\n",
    "Y = np.zeros((n_samples, n_features))\n",
    "for i in range(n_features):\n",
    "    Y[:,i] = rank_to_normal(X[:, i])\n"
   ]
  },
  {
   "cell_type": "code",
   "execution_count": 189,
   "metadata": {},
   "outputs": [
    {
     "data": {
      "image/png": "[encoded data removed]",
      "text/plain": [
       "<Figure size 432x288 with 1 Axes>"
      ]
     },
     "metadata": {
      "needs_background": "light"
     },
     "output_type": "display_data"
    }
   ],
   "source": [
    "\n"
   ]
  },
  {
   "cell_type": "code",
   "execution_count": 21,
   "metadata": {},
   "outputs": [],
   "source": [
    "#Empirical \n",
    "emp_cov = np.cov(X.T, bias=1)\n",
    "emp_prec = linalg.inv(emp_cov)"
   ]
  },
  {
   "cell_type": "code",
   "execution_count": 22,
   "metadata": {},
   "outputs": [
    {
     "data": {
      "image/png": "[encoded data removed]",
      "text/plain": [
       "<Figure size 288x216 with 1 Axes>"
      ]
     },
     "metadata": {
      "needs_background": "light"
     },
     "output_type": "display_data"
    }
   ],
   "source": [
    "model = GraphicalLassoCV(cv=5)\n",
    "model.fit(X)\n",
    "cv_cov = model.covariance_\n",
    "cv_prec = model.precision_\n",
    "\n",
    "# plot the model selection metric\n",
    "plt.figure(figsize=(4, 3))\n",
    "plt.axes([.2, .15, .75, .7])\n",
    "plt.plot(model.cv_alphas_, np.mean(model.grid_scores_, axis=1), 'o-')\n",
    "plt.axvline(model.alpha_, color='.5')\n",
    "plt.title('Model selection')\n",
    "plt.ylabel('Cross-validation score')\n",
    "plt.xlabel('alpha')\n",
    "\n",
    "plt.show()"
   ]
  },
  {
   "cell_type": "code",
   "execution_count": 23,
   "metadata": {},
   "outputs": [],
   "source": [
    "def graphical_lasso_path_z(X, alphas, cov_init=None, X_test=None, mode='cd',\n",
    "                         tol=1e-4, enet_tol=1e-4, max_iter=100, verbose=False):\n",
    "    \"\"\"l1-penalized covariance estimator along a path of decreasing alphas\n",
    "    Read more in the :ref:`User Guide <sparse_inverse_covariance>`.\n",
    "    Parameters\n",
    "    ----------\n",
    "    X : 2D ndarray, shape (n_samples, n_features)\n",
    "        Data from which to compute the covariance estimate.\n",
    "    alphas : list of positive floats\n",
    "        The list of regularization parameters, decreasing order.\n",
    "    cov_init : 2D array (n_features, n_features), optional\n",
    "        The initial guess for the covariance.\n",
    "    X_test : 2D array, shape (n_test_samples, n_features), optional\n",
    "        Optional test matrix to measure generalisation error.\n",
    "    mode : {'cd', 'lars'}\n",
    "        The Lasso solver to use: coordinate descent or LARS. Use LARS for\n",
    "        very sparse underlying graphs, where p > n. Elsewhere prefer cd\n",
    "        which is more numerically stable.\n",
    "    tol : positive float, optional\n",
    "        The tolerance to declare convergence: if the dual gap goes below\n",
    "        this value, iterations are stopped.\n",
    "    enet_tol : positive float, optional\n",
    "        The tolerance for the elastic net solver used to calculate the descent\n",
    "        direction. This parameter controls the accuracy of the search direction\n",
    "        for a given column update, not of the overall parameter estimate. Only\n",
    "        used for mode='cd'.\n",
    "    max_iter : integer, optional\n",
    "        The maximum number of iterations.\n",
    "    verbose : integer, optional\n",
    "        The higher the verbosity flag, the more information is printed\n",
    "        during the fitting.\n",
    "    Returns\n",
    "    -------\n",
    "    covariances_ : List of 2D ndarray, shape (n_features, n_features)\n",
    "        The estimated covariance matrices.\n",
    "    precisions_ : List of 2D ndarray, shape (n_features, n_features)\n",
    "        The estimated (sparse) precision matrices.\n",
    "    scores_ : List of float\n",
    "        The generalisation error (log-likelihood) on the test data.\n",
    "        Returned only if test data is passed.\n",
    "    \"\"\"\n",
    "    \n",
    "    #cv = check_cv(self.cv, y, classifier=False)\n",
    "\n",
    "        \n",
    "    inner_verbose = max(0, verbose - 1)\n",
    "    emp_cov = empirical_covariance(X)\n",
    "    if cov_init is None:\n",
    "        covariance_ = emp_cov.copy()\n",
    "    else:\n",
    "        covariance_ = cov_init\n",
    "    covariances_ = list()\n",
    "    precisions_ = list()\n",
    "    scores_ = list()\n",
    "    z_scores_ = list()\n",
    "    if X_test is not None:\n",
    "        test_emp_cov = empirical_covariance(X_test)\n",
    "\n",
    "    for alpha in alphas:\n",
    "        try:\n",
    "            # Capture the errors, and move on\n",
    "            covariance_, precision_ = graphical_lasso(\n",
    "                emp_cov, alpha=alpha, cov_init=covariance_, mode=mode, tol=tol,\n",
    "                enet_tol=enet_tol, max_iter=max_iter, verbose=inner_verbose)\n",
    "            covariances_.append(covariance_)\n",
    "            precisions_.append(precision_)\n",
    "            \n",
    "            z_score = log_likelihood(emp_cov, precision_)\n",
    "            z_scores_.append(z_score)\n",
    "            if X_test is not None:\n",
    "                this_score = log_likelihood(test_emp_cov, precision_)\n",
    "        except FloatingPointError:\n",
    "            this_score = -np.inf\n",
    "            covariances_.append(np.nan)\n",
    "            precisions_.append(np.nan)\n",
    "        if X_test is not None:\n",
    "            if not np.isfinite(this_score):\n",
    "                this_score = -np.inf\n",
    "            scores_.append(this_score)\n",
    "        if verbose == 1:\n",
    "            sys.stderr.write('.')\n",
    "        elif verbose > 1:\n",
    "            if X_test is not None:\n",
    "                print('[graphical_lasso_path] alpha: %.2e, score: %.2e'\n",
    "                      % (alpha, this_score))\n",
    "            else:\n",
    "                print('[graphical_lasso_path] alpha: %.2e' % alpha)\n",
    "    if X_test is not None:\n",
    "        return covariances_, precisions_, scores_, z_scores_\n",
    "    return covariances_, precisions_, z_scores_"
   ]
  },
  {
   "cell_type": "code",
   "execution_count": 24,
   "metadata": {},
   "outputs": [],
   "source": [
    "\n",
    "alpha_array = np.arange(0.1, 3, 0.1)\n",
    "m = graphical_lasso_path_z(X, alpha_array)"
   ]
  },
  {
   "cell_type": "code",
   "execution_count": 25,
   "metadata": {},
   "outputs": [
    {
     "data": {
      "image/png": "[encoded data removed]",
      "text/plain": [
       "<Figure size 288x216 with 1 Axes>"
      ]
     },
     "metadata": {
      "needs_background": "light"
     },
     "output_type": "display_data"
    }
   ],
   "source": [
    "like = m[2]\n",
    "# plot the model selection metric\n",
    "plt.figure(figsize=(4, 3))\n",
    "plt.axes([.2, .15, .75, .7])\n",
    "plt.plot(alpha_array, like, 'o-')\n",
    "#plt.axvline(alpha_bic, color='.5')\n",
    "plt.title('')\n",
    "plt.ylabel(  'Log Likelihood + Scale')\n",
    "plt.xlabel('alpha')\n",
    "\n",
    "plt.show()"
   ]
  },
  {
   "cell_type": "code",
   "execution_count": 113,
   "metadata": {},
   "outputs": [],
   "source": [
    "from sklearn.model_selection import train_test_split\n",
    "\n",
    "X_train, X_test= train_test_split(X, test_size=0.2)\n",
    "\n",
    "#cv = check_cv(X, classifier=False)"
   ]
  },
  {
   "cell_type": "code",
   "execution_count": 114,
   "metadata": {},
   "outputs": [
    {
     "name": "stderr",
     "output_type": "stream",
     "text": [
      "/Library/Frameworks/Python.framework/Versions/3.6/lib/python3.6/site-packages/sklearn/covariance/graph_lasso_.py:262: ConvergenceWarning: graphical_lasso: did not converge after 100 iteration: dual gap: -1.041e-03\n",
      "  % (max_iter, d_gap), ConvergenceWarning)\n"
     ]
    }
   ],
   "source": [
    "from sklearn.covariance.graph_lasso_ import graphical_lasso_path\n",
    "\n",
    "m2 = graphical_lasso_path_z(X=X_train, alphas= alpha_array, X_test=X_test)"
   ]
  },
  {
   "cell_type": "code",
   "execution_count": 115,
   "metadata": {},
   "outputs": [
    {
     "data": {
      "image/png": "[encoded data removed]",
      "text/plain": [
       "<Figure size 288x216 with 1 Axes>"
      ]
     },
     "metadata": {
      "needs_background": "light"
     },
     "output_type": "display_data"
    }
   ],
   "source": [
    "like = m2[2]\n",
    "# plot the model selection metric\n",
    "plt.figure(figsize=(4, 3))\n",
    "plt.axes([.2, .15, .75, .7])\n",
    "plt.plot(alpha_array, like, 'o-')\n",
    "#plt.axvline(alpha_bic, color='.5')\n",
    "plt.title('')\n",
    "plt.ylabel(  'Test Data - Log Likelihood + Scale')\n",
    "plt.xlabel('alpha')\n",
    "\n",
    "plt.show()"
   ]
  },
  {
   "cell_type": "code",
   "execution_count": 63,
   "metadata": {},
   "outputs": [],
   "source": [
    "cv = 5\n",
    "y = None\n",
    "cv = check_cv(cv, y, classifier=False)\n",
    "max_iter = 100\n",
    "enet_tol=1e-4\n",
    "\n",
    "this_path = ((graphical_lasso_path)(X[train], alphas=model.cv_alphas_,\n",
    "                                                X_test=X[test], mode='cd',\n",
    "                                                tol=1e-4,\n",
    "                                                enet_tol=enet_tol,\n",
    "                                                max_iter=int(.1 *\n",
    "                                                             max_iter),\n",
    "                                                verbose=False)\n",
    "                  for train, test in cv.split(X))"
   ]
  },
  {
   "cell_type": "code",
   "execution_count": 64,
   "metadata": {},
   "outputs": [],
   "source": [
    "covs, _, scores = zip(*this_path)\n"
   ]
  },
  {
   "cell_type": "code",
   "execution_count": 85,
   "metadata": {},
   "outputs": [
    {
     "data": {
      "image/png": "[encoded data removed]",
      "text/plain": [
       "<Figure size 288x216 with 1 Axes>"
      ]
     },
     "metadata": {
      "needs_background": "light"
     },
     "output_type": "display_data"
    }
   ],
   "source": [
    "\n",
    "\n",
    "# plot the model selection metric\n",
    "plt.figure(figsize=(4, 3))\n",
    "plt.axes([.2, .15, .75, .7])\n",
    "plt.plot(model.cv_alphas_, scores[0], 'o-')\n",
    "plt.axvline(model.alpha_, color='.5')\n",
    "plt.title('Model selection')\n",
    "plt.ylabel('Cross-validation score')\n",
    "plt.xlabel('alpha')\n",
    "\n",
    "plt.show()\n"
   ]
  },
  {
   "cell_type": "code",
   "execution_count": 81,
   "metadata": {},
   "outputs": [],
   "source": [
    "z = zip(*scores, *covs)"
   ]
  },
  {
   "cell_type": "code",
   "execution_count": 82,
   "metadata": {},
   "outputs": [
    {
     "ename": "ValueError",
     "evalue": "too many values to unpack (expected 2)",
     "output_type": "error",
     "traceback": [
      "\u001b[0;31m---------------------------------------------------------------------------\u001b[0m",
      "\u001b[0;31mValueError\u001b[0m                                Traceback (most recent call last)",
      "\u001b[0;32m<ipython-input-82-4c39c0819e8a>\u001b[0m in \u001b[0;36m<module>\u001b[0;34m\u001b[0m\n\u001b[0;32m----> 1\u001b[0;31m \u001b[0ms\u001b[0m\u001b[0;34m,\u001b[0m \u001b[0mc\u001b[0m \u001b[0;34m=\u001b[0m \u001b[0mzip\u001b[0m\u001b[0;34m(\u001b[0m\u001b[0mz\u001b[0m\u001b[0;34m)\u001b[0m\u001b[0;34m\u001b[0m\u001b[0m\n\u001b[0m",
      "\u001b[0;31mValueError\u001b[0m: too many values to unpack (expected 2)"
     ]
    }
   ],
   "source": [
    "s, c = zip(z)"
   ]
  },
  {
   "cell_type": "code",
   "execution_count": 66,
   "metadata": {},
   "outputs": [
    {
     "data": {
      "text/plain": [
       "[((-28.135443667174975,\n",
       "   -28.493248762379523,\n",
       "   -28.479067917261577,\n",
       "   -28.540661149020377,\n",
       "   -28.204722323280997),),\n",
       " ((-27.83201445073801,\n",
       "   -28.20148239005291,\n",
       "   -28.16723938456706,\n",
       "   -28.302439334071284,\n",
       "   -27.945671843410707),),\n",
       " ((-27.675486639149682,\n",
       "   -28.053089549400696,\n",
       "   -27.963101454097064,\n",
       "   -28.17654229534694,\n",
       "   -27.796635068657608),),\n",
       " ((-27.638242864739418,\n",
       "   -28.02022514199676,\n",
       "   -27.91981977348789,\n",
       "   -28.14788590937414,\n",
       "   -27.757014283229825),),\n",
       " ((-27.623275578651075,\n",
       "   -28.00853156894737,\n",
       "   -27.904132901824283,\n",
       "   -28.137826510671573,\n",
       "   -27.74177493007234),),\n",
       " ((-27.615886303135653,\n",
       "   -28.005073395591054,\n",
       "   -27.896872028017285,\n",
       "   -28.1333385385948,\n",
       "   -27.735483686212174),),\n",
       " ((-27.6125957787683,\n",
       "   -28.002886216768868,\n",
       "   -27.894389121838444,\n",
       "   -28.13221075853381,\n",
       "   -27.7349608379478),),\n",
       " ((-27.61053659753475,\n",
       "   -27.999848965205103,\n",
       "   -27.892412965189116,\n",
       "   -28.131929082693446,\n",
       "   -27.734076234525197),),\n",
       " ((-27.609519673465964,\n",
       "   -27.99706498495791,\n",
       "   -27.88994426009303,\n",
       "   -28.133454837860313,\n",
       "   -27.73348514573754),),\n",
       " ((-27.60930918420862,\n",
       "   -27.995679800910725,\n",
       "   -27.88859131593758,\n",
       "   -28.13515850242564,\n",
       "   -27.73356601355337),),\n",
       " ((-27.609523260814015,\n",
       "   -27.994536209713218,\n",
       "   -27.888595892484283,\n",
       "   -28.13711225060386,\n",
       "   -27.733881812765553),),\n",
       " ((-27.61067530096483,\n",
       "   -27.993380103104073,\n",
       "   -27.890631263062893,\n",
       "   -28.142360782892528,\n",
       "   -27.735259039648156),),\n",
       " ((-27.613475894256382,\n",
       "   -27.993700272077433,\n",
       "   -27.894113978606846,\n",
       "   -28.14881977644035,\n",
       "   -27.73594943844661),),\n",
       " ((-27.62485490239726,\n",
       "   -27.998183329092818,\n",
       "   -27.90493630851079,\n",
       "   -28.169366951821974,\n",
       "   -27.741891567458687),),\n",
       " ((-27.675114441956396,\n",
       "   -28.01574932167799,\n",
       "   -27.947341491703412,\n",
       "   -28.25635235160537,\n",
       "   -27.796036249311932),),\n",
       " ((-27.794626893663747,\n",
       "   -28.073016100090214,\n",
       "   -28.069261269689477,\n",
       "   -28.41927620928321,\n",
       "   -27.91277336568207),),\n",
       " ((-27.855198674876124,\n",
       "   -28.110021317562712,\n",
       "   -28.13228500302113,\n",
       "   -28.490469577220026,\n",
       "   -27.962803879631917),)]"
      ]
     },
     "execution_count": 66,
     "metadata": {},
     "output_type": "execute_result"
    }
   ],
   "source": [
    "list(zip(z))"
   ]
  },
  {
   "cell_type": "code",
   "execution_count": null,
   "metadata": {},
   "outputs": [],
   "source": []
  },
  {
   "cell_type": "code",
   "execution_count": null,
   "metadata": {},
   "outputs": [],
   "source": []
  }
 ],
 "metadata": {
  "kernelspec": {
   "display_name": "Python 3",
   "language": "python",
   "name": "python3"
  },
  "language_info": {
   "codemirror_mode": {
    "name": "ipython",
    "version": 3
   },
   "file_extension": ".py",
   "mimetype": "text/x-python",
   "name": "python",
   "nbconvert_exporter": "python",
   "pygments_lexer": "ipython3",
   "version": "3.6.5"
  }
 },
 "nbformat": 4,
 "nbformat_minor": 2
}
